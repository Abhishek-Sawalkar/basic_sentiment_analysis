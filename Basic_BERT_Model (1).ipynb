{
  "nbformat": 4,
  "nbformat_minor": 0,
  "metadata": {
    "colab": {
      "name": "Basic_BERT_Model.ipynb",
      "provenance": [],
      "collapsed_sections": [],
      "toc_visible": true
    },
    "kernelspec": {
      "name": "python3",
      "display_name": "Python 3"
    },
    "accelerator": "GPU"
  },
  "cells": [
    {
      "cell_type": "markdown",
      "metadata": {
        "id": "FNUlJ2HkEAS-",
        "colab_type": "text"
      },
      "source": [
        "# BERT "
      ]
    },
    {
      "cell_type": "markdown",
      "metadata": {
        "id": "sLZm_9h7gX2T",
        "colab_type": "text"
      },
      "source": [
        "### Connect colab with drive"
      ]
    },
    {
      "cell_type": "code",
      "metadata": {
        "id": "7a35kENAxjYD",
        "colab_type": "code",
        "colab": {}
      },
      "source": [
        "# from google.colab import files\n",
        "# uploaded = files.upload()\n",
        "\n",
        "\n",
        "#IMPORT FILES FROM DRIVE INTO GOOGLE-COLAB:\n",
        "\n",
        "#STEP-1: Import Libraries\n",
        "\n",
        "# Code to read csv file into colaboratory:\n",
        "!pip install -U -q PyDrive\n",
        "from pydrive.auth import GoogleAuth\n",
        "from pydrive.drive import GoogleDrive\n",
        "from google.colab import auth\n",
        "from oauth2client.client import GoogleCredentials\n",
        "\n",
        "#STEP-2: Autheticate E-Mail ID\n",
        "\n",
        "auth.authenticate_user()\n",
        "gauth = GoogleAuth()\n",
        "gauth.credentials = GoogleCredentials.get_application_default()\n",
        "drive = GoogleDrive(gauth)\n",
        "\n",
        "#STEP-3: Get File from Drive using file-ID\n",
        "\n",
        "#2.1 Get the file\n",
        "downloaded = drive.CreateFile({'id':'1hHnirG9DtR-MpqMnchFb0wY-VCEVEoQG'}) # replace the id with id of file you want to linkable link and delete from 'https....id='\n",
        "downloaded.GetContentFile('ibm_0k-60k.csv')  # file name to be imported to colab"
      ],
      "execution_count": null,
      "outputs": []
    },
    {
      "cell_type": "markdown",
      "metadata": {
        "id": "qHAb4wW3EHHe",
        "colab_type": "text"
      },
      "source": [
        "## 1. Check Device"
      ]
    },
    {
      "cell_type": "code",
      "metadata": {
        "id": "Dvop7BkbDliJ",
        "colab_type": "code",
        "colab": {
          "base_uri": "https://localhost:8080/",
          "height": 34
        },
        "outputId": "fbee05ca-b714-4348-d9f8-bb96ce43a1a1"
      },
      "source": [
        "import tensorflow as tf\n",
        "\n",
        "device_name = tf.test.gpu_device_name()\n",
        "print(f'Device name: {device_name}')"
      ],
      "execution_count": null,
      "outputs": [
        {
          "output_type": "stream",
          "text": [
            "Device name: /device:GPU:0\n"
          ],
          "name": "stdout"
        }
      ]
    },
    {
      "cell_type": "markdown",
      "metadata": {
        "id": "b9sOD00mFDEM",
        "colab_type": "text"
      },
      "source": [
        "## 2. Install pytorch interface for bert model and required libraries\n",
        "At the moment, the Hugging Face library seems to be the most widely accepted and powerful pytorch interface for working with BERT."
      ]
    },
    {
      "cell_type": "code",
      "metadata": {
        "id": "KD6DgnEwEoT_",
        "colab_type": "code",
        "colab": {
          "base_uri": "https://localhost:8080/",
          "height": 457
        },
        "outputId": "354e7245-80b4-463f-9395-34fd23a51f32"
      },
      "source": [
        "! pip install pytorch-pretrained-bert pytorch-nlp"
      ],
      "execution_count": null,
      "outputs": [
        {
          "output_type": "stream",
          "text": [
            "Collecting pytorch-pretrained-bert\n",
            "\u001b[?25l  Downloading https://files.pythonhosted.org/packages/d7/e0/c08d5553b89973d9a240605b9c12404bcf8227590de62bae27acbcfe076b/pytorch_pretrained_bert-0.6.2-py3-none-any.whl (123kB)\n",
            "\r\u001b[K     |██▋                             | 10kB 26.7MB/s eta 0:00:01\r\u001b[K     |█████▎                          | 20kB 5.7MB/s eta 0:00:01\r\u001b[K     |████████                        | 30kB 5.8MB/s eta 0:00:01\r\u001b[K     |██████████▋                     | 40kB 6.6MB/s eta 0:00:01\r\u001b[K     |█████████████▎                  | 51kB 7.2MB/s eta 0:00:01\r\u001b[K     |███████████████▉                | 61kB 7.4MB/s eta 0:00:01\r\u001b[K     |██████████████████▌             | 71kB 8.0MB/s eta 0:00:01\r\u001b[K     |█████████████████████▏          | 81kB 8.2MB/s eta 0:00:01\r\u001b[K     |███████████████████████▉        | 92kB 7.8MB/s eta 0:00:01\r\u001b[K     |██████████████████████████▌     | 102kB 8.1MB/s eta 0:00:01\r\u001b[K     |█████████████████████████████▏  | 112kB 8.1MB/s eta 0:00:01\r\u001b[K     |███████████████████████████████▊| 122kB 8.1MB/s eta 0:00:01\r\u001b[K     |████████████████████████████████| 133kB 8.1MB/s \n",
            "\u001b[?25hCollecting pytorch-nlp\n",
            "\u001b[?25l  Downloading https://files.pythonhosted.org/packages/4f/51/f0ee1efb75f7cc2e3065c5da1363d6be2eec79691b2821594f3f2329528c/pytorch_nlp-0.5.0-py3-none-any.whl (90kB)\n",
            "\r\u001b[K     |███▋                            | 10kB 24.4MB/s eta 0:00:01\r\u001b[K     |███████▎                        | 20kB 32.5MB/s eta 0:00:01\r\u001b[K     |███████████                     | 30kB 37.5MB/s eta 0:00:01\r\u001b[K     |██████████████▌                 | 40kB 30.3MB/s eta 0:00:01\r\u001b[K     |██████████████████▏             | 51kB 15.4MB/s eta 0:00:01\r\u001b[K     |█████████████████████▉          | 61kB 15.2MB/s eta 0:00:01\r\u001b[K     |█████████████████████████▌      | 71kB 14.0MB/s eta 0:00:01\r\u001b[K     |█████████████████████████████   | 81kB 15.3MB/s eta 0:00:01\r\u001b[K     |████████████████████████████████| 92kB 8.5MB/s \n",
            "\u001b[?25hRequirement already satisfied: torch>=0.4.1 in /usr/local/lib/python3.6/dist-packages (from pytorch-pretrained-bert) (1.5.1+cu101)\n",
            "Requirement already satisfied: tqdm in /usr/local/lib/python3.6/dist-packages (from pytorch-pretrained-bert) (4.41.1)\n",
            "Requirement already satisfied: requests in /usr/local/lib/python3.6/dist-packages (from pytorch-pretrained-bert) (2.23.0)\n",
            "Requirement already satisfied: regex in /usr/local/lib/python3.6/dist-packages (from pytorch-pretrained-bert) (2019.12.20)\n",
            "Requirement already satisfied: boto3 in /usr/local/lib/python3.6/dist-packages (from pytorch-pretrained-bert) (1.14.20)\n",
            "Requirement already satisfied: numpy in /usr/local/lib/python3.6/dist-packages (from pytorch-pretrained-bert) (1.18.5)\n",
            "Requirement already satisfied: future in /usr/local/lib/python3.6/dist-packages (from torch>=0.4.1->pytorch-pretrained-bert) (0.16.0)\n",
            "Requirement already satisfied: certifi>=2017.4.17 in /usr/local/lib/python3.6/dist-packages (from requests->pytorch-pretrained-bert) (2020.6.20)\n",
            "Requirement already satisfied: idna<3,>=2.5 in /usr/local/lib/python3.6/dist-packages (from requests->pytorch-pretrained-bert) (2.10)\n",
            "Requirement already satisfied: chardet<4,>=3.0.2 in /usr/local/lib/python3.6/dist-packages (from requests->pytorch-pretrained-bert) (3.0.4)\n",
            "Requirement already satisfied: urllib3!=1.25.0,!=1.25.1,<1.26,>=1.21.1 in /usr/local/lib/python3.6/dist-packages (from requests->pytorch-pretrained-bert) (1.24.3)\n",
            "Requirement already satisfied: jmespath<1.0.0,>=0.7.1 in /usr/local/lib/python3.6/dist-packages (from boto3->pytorch-pretrained-bert) (0.10.0)\n",
            "Requirement already satisfied: botocore<1.18.0,>=1.17.20 in /usr/local/lib/python3.6/dist-packages (from boto3->pytorch-pretrained-bert) (1.17.20)\n",
            "Requirement already satisfied: s3transfer<0.4.0,>=0.3.0 in /usr/local/lib/python3.6/dist-packages (from boto3->pytorch-pretrained-bert) (0.3.3)\n",
            "Requirement already satisfied: docutils<0.16,>=0.10 in /usr/local/lib/python3.6/dist-packages (from botocore<1.18.0,>=1.17.20->boto3->pytorch-pretrained-bert) (0.15.2)\n",
            "Requirement already satisfied: python-dateutil<3.0.0,>=2.1 in /usr/local/lib/python3.6/dist-packages (from botocore<1.18.0,>=1.17.20->boto3->pytorch-pretrained-bert) (2.8.1)\n",
            "Requirement already satisfied: six>=1.5 in /usr/local/lib/python3.6/dist-packages (from python-dateutil<3.0.0,>=2.1->botocore<1.18.0,>=1.17.20->boto3->pytorch-pretrained-bert) (1.12.0)\n",
            "Installing collected packages: pytorch-pretrained-bert, pytorch-nlp\n",
            "Successfully installed pytorch-nlp-0.5.0 pytorch-pretrained-bert-0.6.2\n"
          ],
          "name": "stdout"
        }
      ]
    },
    {
      "cell_type": "code",
      "metadata": {
        "id": "ovsdp_owFdiG",
        "colab_type": "code",
        "colab": {
          "base_uri": "https://localhost:8080/",
          "height": 34
        },
        "outputId": "57f09b6a-db4d-456f-f786-81f7af28c4d9"
      },
      "source": [
        "import torch\n",
        "from torch.utils.data import TensorDataset, DataLoader, RandomSampler, SequentialSampler\n",
        "from keras.preprocessing.sequence import pad_sequences\n",
        "from sklearn.model_selection import train_test_split\n",
        "from pytorch_pretrained_bert import BertTokenizer, BertConfig\n",
        "from pytorch_pretrained_bert import BertAdam, BertForSequenceClassification\n",
        "from tqdm import tqdm, trange\n",
        "import pandas as pd\n",
        "import numpy as np\n",
        "import io\n",
        "import matplotlib.pyplot as plt\n",
        "torch.cuda.empty_cache()\n",
        "\n",
        "% matplotlib inline"
      ],
      "execution_count": null,
      "outputs": [
        {
          "output_type": "stream",
          "text": [
            "Using TensorFlow backend.\n"
          ],
          "name": "stderr"
        }
      ]
    },
    {
      "cell_type": "markdown",
      "metadata": {
        "id": "AvAAaxtaxs5k",
        "colab_type": "text"
      },
      "source": [
        "In order for torch to use the GPU, we need to identify and specify the GPU as the device. Later, in our training loop, we will load data onto the device."
      ]
    },
    {
      "cell_type": "code",
      "metadata": {
        "id": "3fLfJ_iKw6jL",
        "colab_type": "code",
        "colab": {
          "base_uri": "https://localhost:8080/",
          "height": 35
        },
        "outputId": "b2a339de-a821-4c67-c8fb-9c5caa5b0577"
      },
      "source": [
        "device = torch.device(\"cuda\" if torch.cuda.is_available() else \"cpu\")\n",
        "n_gpu = torch.cuda.device_count()\n",
        "torch.cuda.get_device_name(0)"
      ],
      "execution_count": null,
      "outputs": [
        {
          "output_type": "execute_result",
          "data": {
            "application/vnd.google.colaboratory.intrinsic": {
              "type": "string"
            },
            "text/plain": [
              "'Tesla T4'"
            ]
          },
          "metadata": {
            "tags": []
          },
          "execution_count": 5
        }
      ]
    },
    {
      "cell_type": "code",
      "metadata": {
        "id": "G23HuR4xOg7c",
        "colab_type": "code",
        "colab": {
          "base_uri": "https://localhost:8080/",
          "height": 608
        },
        "outputId": "46d3e5a4-9167-4489-ff57-5cc5c62f877c"
      },
      "source": [
        "! pip install transformers"
      ],
      "execution_count": null,
      "outputs": [
        {
          "output_type": "stream",
          "text": [
            "Collecting transformers\n",
            "\u001b[?25l  Downloading https://files.pythonhosted.org/packages/27/3c/91ed8f5c4e7ef3227b4119200fc0ed4b4fd965b1f0172021c25701087825/transformers-3.0.2-py3-none-any.whl (769kB)\n",
            "\r\u001b[K     |▍                               | 10kB 22.2MB/s eta 0:00:01\r\u001b[K     |▉                               | 20kB 6.3MB/s eta 0:00:01\r\u001b[K     |█▎                              | 30kB 7.4MB/s eta 0:00:01\r\u001b[K     |█▊                              | 40kB 8.3MB/s eta 0:00:01\r\u001b[K     |██▏                             | 51kB 6.1MB/s eta 0:00:01\r\u001b[K     |██▋                             | 61kB 6.1MB/s eta 0:00:01\r\u001b[K     |███                             | 71kB 5.8MB/s eta 0:00:01\r\u001b[K     |███▍                            | 81kB 5.8MB/s eta 0:00:01\r\u001b[K     |███▉                            | 92kB 6.0MB/s eta 0:00:01\r\u001b[K     |████▎                           | 102kB 5.9MB/s eta 0:00:01\r\u001b[K     |████▊                           | 112kB 5.9MB/s eta 0:00:01\r\u001b[K     |█████▏                          | 122kB 5.9MB/s eta 0:00:01\r\u001b[K     |█████▌                          | 133kB 5.9MB/s eta 0:00:01\r\u001b[K     |██████                          | 143kB 5.9MB/s eta 0:00:01\r\u001b[K     |██████▍                         | 153kB 5.9MB/s eta 0:00:01\r\u001b[K     |██████▉                         | 163kB 5.9MB/s eta 0:00:01\r\u001b[K     |███████▎                        | 174kB 5.9MB/s eta 0:00:01\r\u001b[K     |███████▊                        | 184kB 5.9MB/s eta 0:00:01\r\u001b[K     |████████                        | 194kB 5.9MB/s eta 0:00:01\r\u001b[K     |████████▌                       | 204kB 5.9MB/s eta 0:00:01\r\u001b[K     |█████████                       | 215kB 5.9MB/s eta 0:00:01\r\u001b[K     |█████████▍                      | 225kB 5.9MB/s eta 0:00:01\r\u001b[K     |█████████▉                      | 235kB 5.9MB/s eta 0:00:01\r\u001b[K     |██████████▎                     | 245kB 5.9MB/s eta 0:00:01\r\u001b[K     |██████████▋                     | 256kB 5.9MB/s eta 0:00:01\r\u001b[K     |███████████                     | 266kB 5.9MB/s eta 0:00:01\r\u001b[K     |███████████▌                    | 276kB 5.9MB/s eta 0:00:01\r\u001b[K     |████████████                    | 286kB 5.9MB/s eta 0:00:01\r\u001b[K     |████████████▍                   | 296kB 5.9MB/s eta 0:00:01\r\u001b[K     |████████████▉                   | 307kB 5.9MB/s eta 0:00:01\r\u001b[K     |█████████████▏                  | 317kB 5.9MB/s eta 0:00:01\r\u001b[K     |█████████████▋                  | 327kB 5.9MB/s eta 0:00:01\r\u001b[K     |██████████████                  | 337kB 5.9MB/s eta 0:00:01\r\u001b[K     |██████████████▌                 | 348kB 5.9MB/s eta 0:00:01\r\u001b[K     |███████████████                 | 358kB 5.9MB/s eta 0:00:01\r\u001b[K     |███████████████▍                | 368kB 5.9MB/s eta 0:00:01\r\u001b[K     |███████████████▊                | 378kB 5.9MB/s eta 0:00:01\r\u001b[K     |████████████████▏               | 389kB 5.9MB/s eta 0:00:01\r\u001b[K     |████████████████▋               | 399kB 5.9MB/s eta 0:00:01\r\u001b[K     |█████████████████               | 409kB 5.9MB/s eta 0:00:01\r\u001b[K     |█████████████████▌              | 419kB 5.9MB/s eta 0:00:01\r\u001b[K     |██████████████████              | 430kB 5.9MB/s eta 0:00:01\r\u001b[K     |██████████████████▎             | 440kB 5.9MB/s eta 0:00:01\r\u001b[K     |██████████████████▊             | 450kB 5.9MB/s eta 0:00:01\r\u001b[K     |███████████████████▏            | 460kB 5.9MB/s eta 0:00:01\r\u001b[K     |███████████████████▋            | 471kB 5.9MB/s eta 0:00:01\r\u001b[K     |████████████████████            | 481kB 5.9MB/s eta 0:00:01\r\u001b[K     |████████████████████▌           | 491kB 5.9MB/s eta 0:00:01\r\u001b[K     |████████████████████▉           | 501kB 5.9MB/s eta 0:00:01\r\u001b[K     |█████████████████████▎          | 512kB 5.9MB/s eta 0:00:01\r\u001b[K     |█████████████████████▊          | 522kB 5.9MB/s eta 0:00:01\r\u001b[K     |██████████████████████▏         | 532kB 5.9MB/s eta 0:00:01\r\u001b[K     |██████████████████████▋         | 542kB 5.9MB/s eta 0:00:01\r\u001b[K     |███████████████████████         | 552kB 5.9MB/s eta 0:00:01\r\u001b[K     |███████████████████████▍        | 563kB 5.9MB/s eta 0:00:01\r\u001b[K     |███████████████████████▉        | 573kB 5.9MB/s eta 0:00:01\r\u001b[K     |████████████████████████▎       | 583kB 5.9MB/s eta 0:00:01\r\u001b[K     |████████████████████████▊       | 593kB 5.9MB/s eta 0:00:01\r\u001b[K     |█████████████████████████▏      | 604kB 5.9MB/s eta 0:00:01\r\u001b[K     |█████████████████████████▋      | 614kB 5.9MB/s eta 0:00:01\r\u001b[K     |██████████████████████████      | 624kB 5.9MB/s eta 0:00:01\r\u001b[K     |██████████████████████████▍     | 634kB 5.9MB/s eta 0:00:01\r\u001b[K     |██████████████████████████▉     | 645kB 5.9MB/s eta 0:00:01\r\u001b[K     |███████████████████████████▎    | 655kB 5.9MB/s eta 0:00:01\r\u001b[K     |███████████████████████████▊    | 665kB 5.9MB/s eta 0:00:01\r\u001b[K     |████████████████████████████▏   | 675kB 5.9MB/s eta 0:00:01\r\u001b[K     |████████████████████████████▌   | 686kB 5.9MB/s eta 0:00:01\r\u001b[K     |█████████████████████████████   | 696kB 5.9MB/s eta 0:00:01\r\u001b[K     |█████████████████████████████▍  | 706kB 5.9MB/s eta 0:00:01\r\u001b[K     |█████████████████████████████▉  | 716kB 5.9MB/s eta 0:00:01\r\u001b[K     |██████████████████████████████▎ | 727kB 5.9MB/s eta 0:00:01\r\u001b[K     |██████████████████████████████▊ | 737kB 5.9MB/s eta 0:00:01\r\u001b[K     |███████████████████████████████ | 747kB 5.9MB/s eta 0:00:01\r\u001b[K     |███████████████████████████████▌| 757kB 5.9MB/s eta 0:00:01\r\u001b[K     |████████████████████████████████| 768kB 5.9MB/s eta 0:00:01\r\u001b[K     |████████████████████████████████| 778kB 5.9MB/s \n",
            "\u001b[?25hRequirement already satisfied: regex!=2019.12.17 in /usr/local/lib/python3.6/dist-packages (from transformers) (2019.12.20)\n",
            "Requirement already satisfied: requests in /usr/local/lib/python3.6/dist-packages (from transformers) (2.23.0)\n",
            "Collecting sentencepiece!=0.1.92\n",
            "\u001b[?25l  Downloading https://files.pythonhosted.org/packages/d4/a4/d0a884c4300004a78cca907a6ff9a5e9fe4f090f5d95ab341c53d28cbc58/sentencepiece-0.1.91-cp36-cp36m-manylinux1_x86_64.whl (1.1MB)\n",
            "\u001b[K     |████████████████████████████████| 1.1MB 19.9MB/s \n",
            "\u001b[?25hCollecting sacremoses\n",
            "\u001b[?25l  Downloading https://files.pythonhosted.org/packages/7d/34/09d19aff26edcc8eb2a01bed8e98f13a1537005d31e95233fd48216eed10/sacremoses-0.0.43.tar.gz (883kB)\n",
            "\u001b[K     |████████████████████████████████| 890kB 42.1MB/s \n",
            "\u001b[?25hRequirement already satisfied: tqdm>=4.27 in /usr/local/lib/python3.6/dist-packages (from transformers) (4.41.1)\n",
            "Requirement already satisfied: packaging in /usr/local/lib/python3.6/dist-packages (from transformers) (20.4)\n",
            "Requirement already satisfied: numpy in /usr/local/lib/python3.6/dist-packages (from transformers) (1.18.5)\n",
            "Collecting tokenizers==0.8.1.rc1\n",
            "\u001b[?25l  Downloading https://files.pythonhosted.org/packages/40/d0/30d5f8d221a0ed981a186c8eb986ce1c94e3a6e87f994eae9f4aa5250217/tokenizers-0.8.1rc1-cp36-cp36m-manylinux1_x86_64.whl (3.0MB)\n",
            "\u001b[K     |████████████████████████████████| 3.0MB 56.3MB/s \n",
            "\u001b[?25hRequirement already satisfied: dataclasses; python_version < \"3.7\" in /usr/local/lib/python3.6/dist-packages (from transformers) (0.7)\n",
            "Requirement already satisfied: filelock in /usr/local/lib/python3.6/dist-packages (from transformers) (3.0.12)\n",
            "Requirement already satisfied: certifi>=2017.4.17 in /usr/local/lib/python3.6/dist-packages (from requests->transformers) (2020.6.20)\n",
            "Requirement already satisfied: urllib3!=1.25.0,!=1.25.1,<1.26,>=1.21.1 in /usr/local/lib/python3.6/dist-packages (from requests->transformers) (1.24.3)\n",
            "Requirement already satisfied: chardet<4,>=3.0.2 in /usr/local/lib/python3.6/dist-packages (from requests->transformers) (3.0.4)\n",
            "Requirement already satisfied: idna<3,>=2.5 in /usr/local/lib/python3.6/dist-packages (from requests->transformers) (2.10)\n",
            "Requirement already satisfied: six in /usr/local/lib/python3.6/dist-packages (from sacremoses->transformers) (1.12.0)\n",
            "Requirement already satisfied: click in /usr/local/lib/python3.6/dist-packages (from sacremoses->transformers) (7.1.2)\n",
            "Requirement already satisfied: joblib in /usr/local/lib/python3.6/dist-packages (from sacremoses->transformers) (0.16.0)\n",
            "Requirement already satisfied: pyparsing>=2.0.2 in /usr/local/lib/python3.6/dist-packages (from packaging->transformers) (2.4.7)\n",
            "Building wheels for collected packages: sacremoses\n",
            "  Building wheel for sacremoses (setup.py) ... \u001b[?25l\u001b[?25hdone\n",
            "  Created wheel for sacremoses: filename=sacremoses-0.0.43-cp36-none-any.whl size=893260 sha256=8398cbcdcb89a8645c6d5d6a7510fbeffb4dcca66961dc9e2ced5e6a0648884c\n",
            "  Stored in directory: /root/.cache/pip/wheels/29/3c/fd/7ce5c3f0666dab31a50123635e6fb5e19ceb42ce38d4e58f45\n",
            "Successfully built sacremoses\n",
            "Installing collected packages: sentencepiece, sacremoses, tokenizers, transformers\n",
            "Successfully installed sacremoses-0.0.43 sentencepiece-0.1.91 tokenizers-0.8.1rc1 transformers-3.0.2\n"
          ],
          "name": "stdout"
        }
      ]
    },
    {
      "cell_type": "markdown",
      "metadata": {
        "id": "y81bQADlzHJt",
        "colab_type": "text"
      },
      "source": [
        "## 3. Load Data"
      ]
    },
    {
      "cell_type": "markdown",
      "metadata": {
        "id": "eDHr-tFCzU1-",
        "colab_type": "text"
      },
      "source": [
        "(Not using the CoLA dataset here)\n",
        "\n",
        "We'll use The Corpus of Linguistic Acceptability (CoLA) dataset for single sentence classification. It's a set of sentences labeled as grammatically correct or incorrect. The data is as follows:\n",
        "\n",
        "**Column 1**:\tthe code representing the source of the sentence.\n",
        "\n",
        "**Column 2**:\tthe acceptability judgment label (0=unacceptable, 1=acceptable).\n",
        "\n",
        "**Column 3**:\tthe acceptability judgment as originally notated by the author.\n",
        "\n",
        "**Column 4**:\tthe sentence."
      ]
    },
    {
      "cell_type": "markdown",
      "metadata": {
        "id": "lzKmlZCs2ygK",
        "colab_type": "text"
      },
      "source": [
        "### Upload file\n"
      ]
    },
    {
      "cell_type": "code",
      "metadata": {
        "id": "dlMzUhgoxjBh",
        "colab_type": "code",
        "colab": {
          "base_uri": "https://localhost:8080/",
          "height": 70
        },
        "outputId": "2de691ff-983d-43f2-d0aa-486eccb9acbd"
      },
      "source": [
        "# df = pd.read_csv(\"in_domain_train.tsv\", delimiter='\\t', header=None, names=['sentence_source', 'label', 'label_notes', 'sentence'])\n",
        "df = pd.read_csv(\"ibm_0k-60k.csv\")\n"
      ],
      "execution_count": null,
      "outputs": [
        {
          "output_type": "stream",
          "text": [
            "/usr/local/lib/python3.6/dist-packages/IPython/core/interactiveshell.py:2718: DtypeWarning: Columns (1) have mixed types.Specify dtype option on import or set low_memory=False.\n",
            "  interactivity=interactivity, compiler=compiler, result=result)\n"
          ],
          "name": "stderr"
        }
      ]
    },
    {
      "cell_type": "code",
      "metadata": {
        "id": "SD4sFtxw3ZTk",
        "colab_type": "code",
        "colab": {
          "base_uri": "https://localhost:8080/",
          "height": 783
        },
        "outputId": "1a980d3e-6c7e-4aad-ab66-a2104a00b7b5"
      },
      "source": [
        "df.sample(10)"
      ],
      "execution_count": null,
      "outputs": [
        {
          "output_type": "execute_result",
          "data": {
            "text/html": [
              "<div>\n",
              "<style scoped>\n",
              "    .dataframe tbody tr th:only-of-type {\n",
              "        vertical-align: middle;\n",
              "    }\n",
              "\n",
              "    .dataframe tbody tr th {\n",
              "        vertical-align: top;\n",
              "    }\n",
              "\n",
              "    .dataframe thead th {\n",
              "        text-align: right;\n",
              "    }\n",
              "</style>\n",
              "<table border=\"1\" class=\"dataframe\">\n",
              "  <thead>\n",
              "    <tr style=\"text-align: right;\">\n",
              "      <th></th>\n",
              "      <th>Unnamed: 0</th>\n",
              "      <th>Unnamed: 0.1</th>\n",
              "      <th>Unnamed: 0.1.1</th>\n",
              "      <th>Unnamed: 0.1.1.1</th>\n",
              "      <th>Place</th>\n",
              "      <th>Query</th>\n",
              "      <th>Datetime</th>\n",
              "      <th>Text</th>\n",
              "      <th>retweets</th>\n",
              "      <th>favourites</th>\n",
              "      <th>hashtags</th>\n",
              "      <th>Subjectivity</th>\n",
              "      <th>Polarity</th>\n",
              "      <th>sentiment</th>\n",
              "      <th>ibm_sent</th>\n",
              "      <th>Unnamed: 0.1.1.1.1</th>\n",
              "    </tr>\n",
              "  </thead>\n",
              "  <tbody>\n",
              "    <tr>\n",
              "      <th>19897</th>\n",
              "      <td>9897</td>\n",
              "      <td>29897</td>\n",
              "      <td>29897.0</td>\n",
              "      <td>29897.0</td>\n",
              "      <td>Tamil_Nadu</td>\n",
              "      <td>coronavirus</td>\n",
              "      <td>2020-03-01 03:55:54+00:00</td>\n",
              "      <td>I ’ tell quarantined The Chennai airport autho...</td>\n",
              "      <td>0.0</td>\n",
              "      <td>2.0</td>\n",
              "      <td>NaN</td>\n",
              "      <td>0.688889</td>\n",
              "      <td>-0.311111</td>\n",
              "      <td>surprise</td>\n",
              "      <td>Anger</td>\n",
              "      <td>NaN</td>\n",
              "    </tr>\n",
              "    <tr>\n",
              "      <th>46319</th>\n",
              "      <td>6319</td>\n",
              "      <td>6319</td>\n",
              "      <td>56319.0</td>\n",
              "      <td>14001.0</td>\n",
              "      <td>Karnataka</td>\n",
              "      <td>covid19</td>\n",
              "      <td>2020-04-01 16:10:44+00:00</td>\n",
              "      <td>Maadam understanding situation 's time poltice...</td>\n",
              "      <td>0.0</td>\n",
              "      <td>0.0</td>\n",
              "      <td>NaN</td>\n",
              "      <td>0.000000</td>\n",
              "      <td>0.000000</td>\n",
              "      <td>neutral</td>\n",
              "      <td>Analytical</td>\n",
              "      <td>NaN</td>\n",
              "    </tr>\n",
              "    <tr>\n",
              "      <th>30312</th>\n",
              "      <td>312</td>\n",
              "      <td>40312</td>\n",
              "      <td>40312.0</td>\n",
              "      <td>40312.0</td>\n",
              "      <td>Jammu and Kashmir</td>\n",
              "      <td>coronavirus</td>\n",
              "      <td>2020-03-16 17:38:40+00:00</td>\n",
              "      <td>JammuAndKashmir One case travel history Saudi ...</td>\n",
              "      <td>8.0</td>\n",
              "      <td>24.0</td>\n",
              "      <td>#JammuAndKashmir #coronavirus #COVID2019</td>\n",
              "      <td>0.646818</td>\n",
              "      <td>0.169091</td>\n",
              "      <td>neutral</td>\n",
              "      <td>Joy</td>\n",
              "      <td>NaN</td>\n",
              "    </tr>\n",
              "    <tr>\n",
              "      <th>9071</th>\n",
              "      <td>9071</td>\n",
              "      <td>19071</td>\n",
              "      <td>19071.0</td>\n",
              "      <td>19071.0</td>\n",
              "      <td>Goa</td>\n",
              "      <td>coronavirus</td>\n",
              "      <td>2020-03-24 05:16:17+00:00</td>\n",
              "      <td>Stop people Are guys gon na treat doctors also...</td>\n",
              "      <td>0.0</td>\n",
              "      <td>0.0</td>\n",
              "      <td>#coronavirus</td>\n",
              "      <td>0.650000</td>\n",
              "      <td>-0.250000</td>\n",
              "      <td>neutral</td>\n",
              "      <td>Sadness</td>\n",
              "      <td>NaN</td>\n",
              "    </tr>\n",
              "    <tr>\n",
              "      <th>998</th>\n",
              "      <td>998</td>\n",
              "      <td>10998</td>\n",
              "      <td>10998.0</td>\n",
              "      <td>10998.0</td>\n",
              "      <td>Meghalaya</td>\n",
              "      <td>covid19</td>\n",
              "      <td>2020-03-30 23:53:20+00:00</td>\n",
              "      <td>I take care 94 year old mom I 've responsible ...</td>\n",
              "      <td>0.0</td>\n",
              "      <td>2.0</td>\n",
              "      <td>NaN</td>\n",
              "      <td>0.410281</td>\n",
              "      <td>-0.012987</td>\n",
              "      <td>surprise</td>\n",
              "      <td>Sadness</td>\n",
              "      <td>NaN</td>\n",
              "    </tr>\n",
              "    <tr>\n",
              "      <th>20721</th>\n",
              "      <td>721</td>\n",
              "      <td>30721</td>\n",
              "      <td>30721.0</td>\n",
              "      <td>30721.0</td>\n",
              "      <td>Telangana</td>\n",
              "      <td>coronavirus</td>\n",
              "      <td>2020-03-19 02:23:31+00:00</td>\n",
              "      <td>8DaysToGo MegaPowerStar RamCharan B'Day stay s...</td>\n",
              "      <td>17.0</td>\n",
              "      <td>23.0</td>\n",
              "      <td>#8DaysToGo #MegaPowerStar #RamCharan #coronavi...</td>\n",
              "      <td>0.288462</td>\n",
              "      <td>0.250000</td>\n",
              "      <td>neutral</td>\n",
              "      <td>Joy</td>\n",
              "      <td>NaN</td>\n",
              "    </tr>\n",
              "    <tr>\n",
              "      <th>1546</th>\n",
              "      <td>1546</td>\n",
              "      <td>11546</td>\n",
              "      <td>11546.0</td>\n",
              "      <td>11546.0</td>\n",
              "      <td>Meghalaya</td>\n",
              "      <td>coronavirus</td>\n",
              "      <td>2020-03-30 23:49:33+00:00</td>\n",
              "      <td>If realDonaldTrump got smaller ’ blink existen...</td>\n",
              "      <td>0.0</td>\n",
              "      <td>0.0</td>\n",
              "      <td>NaN</td>\n",
              "      <td>0.500000</td>\n",
              "      <td>0.000000</td>\n",
              "      <td>neutral</td>\n",
              "      <td>Sadness</td>\n",
              "      <td>NaN</td>\n",
              "    </tr>\n",
              "    <tr>\n",
              "      <th>24262</th>\n",
              "      <td>4262</td>\n",
              "      <td>34262</td>\n",
              "      <td>34262.0</td>\n",
              "      <td>34262.0</td>\n",
              "      <td>Uttar Pradesh</td>\n",
              "      <td>covid19</td>\n",
              "      <td>2020-03-28 07:48:35+00:00</td>\n",
              "      <td>I nominate friends get married COVID19 chaos e...</td>\n",
              "      <td>0.0</td>\n",
              "      <td>0.0</td>\n",
              "      <td>#COVID19</td>\n",
              "      <td>0.500000</td>\n",
              "      <td>0.062500</td>\n",
              "      <td>surprise</td>\n",
              "      <td>Neutral</td>\n",
              "      <td>NaN</td>\n",
              "    </tr>\n",
              "    <tr>\n",
              "      <th>51104</th>\n",
              "      <td>1103</td>\n",
              "      <td>1104</td>\n",
              "      <td>1104.0</td>\n",
              "      <td>1104.0</td>\n",
              "      <td>Karnataka</td>\n",
              "      <td>coronavirus</td>\n",
              "      <td>2020-03-08 05:36:48+00:00</td>\n",
              "      <td>Corona virus effect felt Global economic front...</td>\n",
              "      <td>0.0</td>\n",
              "      <td>0.0</td>\n",
              "      <td>NaN</td>\n",
              "      <td>0.100000</td>\n",
              "      <td>0.066667</td>\n",
              "      <td>joy</td>\n",
              "      <td>Analytical</td>\n",
              "      <td>NaN</td>\n",
              "    </tr>\n",
              "    <tr>\n",
              "      <th>35104</th>\n",
              "      <td>5104</td>\n",
              "      <td>45104</td>\n",
              "      <td>2786.0</td>\n",
              "      <td>NaN</td>\n",
              "      <td>Andhra Pradesh</td>\n",
              "      <td>coronavirus</td>\n",
              "      <td>2020-04-19 23:55:58+00:00</td>\n",
              "      <td>The next 12 months Coronavirus may still aroun...</td>\n",
              "      <td>0.0</td>\n",
              "      <td>0.0</td>\n",
              "      <td>#Coronavirus</td>\n",
              "      <td>0.000000</td>\n",
              "      <td>0.000000</td>\n",
              "      <td>neutral</td>\n",
              "      <td>Analytical</td>\n",
              "      <td>NaN</td>\n",
              "    </tr>\n",
              "  </tbody>\n",
              "</table>\n",
              "</div>"
            ],
            "text/plain": [
              "       Unnamed: 0 Unnamed: 0.1  ...    ibm_sent  Unnamed: 0.1.1.1.1\n",
              "19897        9897        29897  ...       Anger                 NaN\n",
              "46319        6319         6319  ...  Analytical                 NaN\n",
              "30312         312        40312  ...         Joy                 NaN\n",
              "9071         9071        19071  ...     Sadness                 NaN\n",
              "998           998        10998  ...     Sadness                 NaN\n",
              "20721         721        30721  ...         Joy                 NaN\n",
              "1546         1546        11546  ...     Sadness                 NaN\n",
              "24262        4262        34262  ...     Neutral                 NaN\n",
              "51104        1103         1104  ...  Analytical                 NaN\n",
              "35104        5104        45104  ...  Analytical                 NaN\n",
              "\n",
              "[10 rows x 16 columns]"
            ]
          },
          "metadata": {
            "tags": []
          },
          "execution_count": 8
        }
      ]
    },
    {
      "cell_type": "markdown",
      "metadata": {
        "id": "ew2VBCSxiwUR",
        "colab_type": "text"
      },
      "source": [
        "## Tokenization"
      ]
    },
    {
      "cell_type": "markdown",
      "metadata": {
        "id": "RQtt30LZCU8I",
        "colab_type": "text"
      },
      "source": [
        "BERT requires specifically formatted inputs. For each tokenized input sentence, we need to create:\n",
        "\n",
        "- **input ids**: a sequence of integers identifying each input token to its index number in the BERT tokenizer vocabulary\n",
        "- **segment mask**: (optional) a sequence of 1s and 0s used to identify whether the input is one sentence or two sentences long. For one sentence inputs, this is simply a sequence of 0s. For two sentence inputs, there is a 0 for each token of the first sentence, followed by a 1 for each token of the second sentence\n",
        "- **attention mask**: (optional) a sequence of 1s and 0s, with 1s for all input tokens and 0s for all padding tokens (we'll detail this in the next paragraph)\n",
        "- **labels**: a single value of 1 or 0. In our task 1 means \"grammatical\" and 0 means \"ungrammatical\""
      ]
    },
    {
      "cell_type": "code",
      "metadata": {
        "id": "AiqY3i5g3dq_",
        "colab_type": "code",
        "colab": {}
      },
      "source": [
        "# Converting sentences to string to avoid 'nan' values\n",
        "df.Text = df.Text.astype(str)\n",
        "sentences = df.Text.values\n",
        "\n",
        "# adding [cls] and [sep] tokens to the tweets....[cls] token are for classification\n",
        "# problem and [sep] token  means end of tweet\n",
        "sentences =[\"[CLS] \"+sent+\" [SEP]\" for sent in sentences]\n",
        "labels = df.ibm_sent.values\n",
        "\n",
        "# importing BertTokenizer\n",
        "tokenizer = BertTokenizer.from_pretrained('bert-base-uncased', do_lower_case = True)\n",
        "tokenized_text = [tokenizer.tokenize(sent) for sent in sentences]\n",
        "print(f'simple tokenized: {tokenized_text[0]}')\n",
        "\n",
        "# use bert tokenizer to convert tokens to their index number or in simple\n",
        "# words representing words in numbers\n",
        "input_ids = [tokenizer.convert_tokens_to_ids(token_sent) for token_sent in tokenized_text]\n",
        "print(f'Token to ids :{input_ids[0]}')\n",
        "\n",
        "# Set the maximum sequence length. The longest sequence in our training set is 96, but we'll leave room on the end anyway. \n",
        "# In the original paper, the authors used a length of 512.\n",
        "# to provide inputs of same size we use pad_sequence\n",
        "MAX_LEN = 128\n",
        "input_ids = pad_sequences(input_ids, maxlen=MAX_LEN, padding=\"post\", truncating=\"post\")\n",
        "print(f'After padding : {input_ids[0]}')\n",
        "\n",
        "# attention_mask is used to notify the model to which tokens to attend and which not to\n",
        "# as pad_seq is of no use so the model should not attend those pad tokens(respresented by '0')\n",
        "attention_masks = []\n",
        "\n",
        "for seq in input_ids:\n",
        "  seq_mask = [float(i>0) for i in seq]\n",
        "  attention_masks.append(seq_mask)\n",
        "\n",
        "print(f'Attention mask : {attention_masks[0]}')"
      ],
      "execution_count": null,
      "outputs": []
    },
    {
      "cell_type": "markdown",
      "metadata": {
        "id": "B-L6zJ4TqAif",
        "colab_type": "text"
      },
      "source": [
        "### Converting labels to proper format"
      ]
    },
    {
      "cell_type": "code",
      "metadata": {
        "id": "ONODabvx_v9e",
        "colab_type": "code",
        "colab": {
          "base_uri": "https://localhost:8080/",
          "height": 34
        },
        "outputId": "ff472eb7-02c3-4100-af1d-9a88e1bfe0ad"
      },
      "source": [
        "df.ibm_sent = df.ibm_sent.astype(str)\n",
        "df[\"ibm_sent\"]= df[\"ibm_sent\"].replace(\"nan\", \"Neutral\") \n",
        "t = df.ibm_sent.unique()\n",
        "print(t)\n",
        "\n",
        "def la(sent):\n",
        "  if sent == \"Sadness\":\n",
        "    return 0\n",
        "  if sent == \"Confident\":\n",
        "    return 1\n",
        "  if sent == \"Neutral\":\n",
        "    return 2\n",
        "  if sent == \"Joy\":\n",
        "    return 3\n",
        "  if sent == \"Analytical\":\n",
        "    return 4\n",
        "  if sent == \"Anger\":\n",
        "    return 5\n",
        "  if sent == \"Fear\":\n",
        "    return 6\n",
        "\n",
        "df['ibm_sent_cat'] = df['ibm_sent'].apply(la)\n",
        "labels = df['ibm_sent_cat'].values"
      ],
      "execution_count": null,
      "outputs": [
        {
          "output_type": "stream",
          "text": [
            "['Sadness' 'Confident' 'Neutral' 'Joy' 'Analytical' 'Anger' 'Fear']\n"
          ],
          "name": "stdout"
        }
      ]
    },
    {
      "cell_type": "markdown",
      "metadata": {
        "id": "HgZsaZYDqH08",
        "colab_type": "text"
      },
      "source": [
        "### Data split into validation and train\n"
      ]
    },
    {
      "cell_type": "code",
      "metadata": {
        "id": "oamLhlBqM44F",
        "colab_type": "code",
        "colab": {}
      },
      "source": [
        "train_inputs, validation_inputs, train_labels, validation_labels = train_test_split(input_ids, labels, \n",
        "                                                            random_state=2018, test_size=0.1)\n",
        "train_mask, validation_mask, _, _ = train_test_split(attention_masks, input_ids, random_state=2020, test_size=0.1)\n"
      ],
      "execution_count": null,
      "outputs": []
    },
    {
      "cell_type": "code",
      "metadata": {
        "id": "lMakZduoNH5T",
        "colab_type": "code",
        "colab": {
          "base_uri": "https://localhost:8080/",
          "height": 34
        },
        "outputId": "37d95dc2-9c5c-4293-945b-a26348a58bd1"
      },
      "source": [
        "len(train_inputs), len(validation_inputs)"
      ],
      "execution_count": null,
      "outputs": [
        {
          "output_type": "execute_result",
          "data": {
            "text/plain": [
              "(54000, 6000)"
            ]
          },
          "metadata": {
            "tags": []
          },
          "execution_count": 36
        }
      ]
    },
    {
      "cell_type": "code",
      "metadata": {
        "id": "6GUD7unaNV24",
        "colab_type": "code",
        "colab": {
          "base_uri": "https://localhost:8080/",
          "height": 34
        },
        "outputId": "01490c2c-c7b0-4254-fee5-9d459cad685f"
      },
      "source": [
        "len(train_mask), len(validation_mask)"
      ],
      "execution_count": null,
      "outputs": [
        {
          "output_type": "execute_result",
          "data": {
            "text/plain": [
              "(54000, 6000)"
            ]
          },
          "metadata": {
            "tags": []
          },
          "execution_count": 37
        }
      ]
    },
    {
      "cell_type": "markdown",
      "metadata": {
        "id": "HMtS64z-qU38",
        "colab_type": "text"
      },
      "source": [
        "### Numpy to tensors"
      ]
    },
    {
      "cell_type": "code",
      "metadata": {
        "id": "i4XqoUBvNn2w",
        "colab_type": "code",
        "colab": {}
      },
      "source": [
        "# we cannot just provide numpy arrays to the model, model only takes tensors as inputs\n",
        "\n",
        "train_inputs = torch.tensor(train_inputs)\n",
        "validation_inputs = torch.tensor(validation_inputs)\n",
        "train_labels = torch.tensor(train_labels)\n",
        "validation_labels = torch.tensor(validation_labels)\n",
        "train_mask = torch.tensor(train_mask)\n",
        "validation_mask = torch.tensor(validation_mask)"
      ],
      "execution_count": null,
      "outputs": []
    },
    {
      "cell_type": "markdown",
      "metadata": {
        "id": "4hggWlj_sixN",
        "colab_type": "text"
      },
      "source": [
        "We'll also create an iterator for our dataset using the torch DataLoader class. This helps save on memory during training because, unlike a for loop, with an iterator the entire dataset does not need to be loaded into memory."
      ]
    },
    {
      "cell_type": "code",
      "metadata": {
        "id": "O6GwegL-AEF1",
        "colab_type": "code",
        "colab": {}
      },
      "source": [
        "# Select a batch size for training. For fine-tuning BERT on a specific task, the authors recommend a batch size of 16 or 32\n",
        "batch_size = 32\n",
        "\n",
        "# Create an iterator of our data with torch DataLoader. This helps save on memory during training because, unlike a for loop, \n",
        "# with an iterator the entire dataset does not need to be loaded into memory\n",
        "\n",
        "train_data = TensorDataset(train_inputs, train_mask, train_labels)\n",
        "validation_data = TensorDataset(validation_inputs, validation_mask, validation_labels)\n",
        "train_sampler = RandomSampler(train_data) # sampler (Sampler, optional) – defines the strategy to draw samples from the dataset\n",
        "validation_sampler = RandomSampler(validation_data)\n",
        "train_dataloader = DataLoader(train_data, sampler = train_sampler, batch_size=batch_size)\n",
        "validation_dataloader = DataLoader(validation_data, sampler = validation_sampler, batch_size=batch_size)\n",
        "\n",
        "# train_dataloader wont have 60,000 tweets instead it would have (60000/ batch_size) batches\n"
      ],
      "execution_count": null,
      "outputs": []
    },
    {
      "cell_type": "markdown",
      "metadata": {
        "id": "6CAijRu2upin",
        "colab_type": "text"
      },
      "source": [
        "## BertForSequenceClassification"
      ]
    },
    {
      "cell_type": "markdown",
      "metadata": {
        "id": "1fK1b7Cluvl9",
        "colab_type": "text"
      },
      "source": [
        "For this task, we first want to modify the pre-trained BERT model to give outputs for classification, and then we want to continue training the model on our dataset until that the entire model, end-to-end, is well-suited for our task. \n",
        "\n",
        "Thankfully, the huggingface pytorch implementation includes a set of interfaces designed for a variety of NLP tasks. Though these interfaces are all built on top of a trained BERT model, each has different top layers and output types designed to accomodate their specific NLP task.  \n",
        "\n",
        "Here is the current list of classes provided for fine-tuning:\n",
        "* BertModel\n",
        "* BertForPreTraining\n",
        "* BertForMaskedLM\n",
        "* BertForNextSentencePrediction\n",
        "* **BertForSequenceClassification** - The one we'll use.\n",
        "* BertForTokenClassification\n",
        "* BertForQuestionAnswering\n",
        "\n",
        "The documentation for these can be found under [here](https://huggingface.co/transformers/v2.2.0/model_doc/bert.html)."
      ]
    },
    {
      "cell_type": "markdown",
      "metadata": {
        "id": "MT6hED6qIszc",
        "colab_type": "text"
      },
      "source": [
        "Now that our input data is properly formatted, it's time to fine tune the BERT model. \n",
        "\n",
        "For this task, we first want to modify the pre-trained BERT model to give outputs for classification, and then we want to continue training the model on our dataset until that the entire model, end-to-end, is well-suited for our task. Thankfully, the huggingface pytorch implementation includes a set of interfaces designed for a variety of NLP tasks. Though these interfaces are all built on top of a trained BERT model, each has different top layers and output types designed to accomodate their specific NLP task.  \n",
        "\n",
        "We'll load [BertForSequenceClassification](https://github.com/huggingface/pytorch-pretrained-BERT/blob/master/pytorch_pretrained_bert/modeling.py#L1129). This is the normal BERT model with an added single linear layer on top for classification that we will use as a sentence classifier. As we feed input data, the entire pre-trained BERT model and the additional untrained classification layer is trained on our specific task. \n",
        "\n",
        "#### Structure of Fine-Tuning Model\n",
        "\n",
        "As we've showed beforehand, the first token of every sequence is the special classification token ([CLS]). Unlike the hidden state vector corresponding to a normal word token, the hidden state corresponding to this special token is designated by the authors of BERT as an aggregate representation of the whole sentence used for classification tasks. As such, when we feed in an input sentence to our model during training, the output is the length 768 hidden state vector corresponding to this token. The additional layer that we've added on top consists of untrained linear neurons of size [hidden_state, number_of_labels], so [768,7], meaning that the output of BERT plus our classification layer is a vector of two numbers representing the \"score\" for \"grammatical/non-grammatical\" that are then fed into cross-entropy loss.\n",
        "\n",
        "\n",
        "\n",
        "#### The Fine-Tuning Process\n",
        "\n",
        "Because the pre-trained BERT layers already encode a lot of information about the language, training the classifier is relatively inexpensive. Rather than training every layer in a large model from scratch, it's as if we have already trained the bottom layers 95% of where they need to be, and only really need to train the top layer, with a bit of tweaking going on in the lower levels to accomodate our task.\n",
        "\n",
        "Sometimes practicioners will opt to \"freeze\" certain layers when fine-tuning, or to apply different learning rates, apply diminishing learning rates, etc. all in an effort to preserve the good quality weights in the network and speed up training (often considerably). In fact, recent research on BERT specifically has demonstrated that freezing the majority of the weights results in only minimal accuracy declines, but there are exceptions and broader rules of transfer learning that should also be considered. For example, if your task and fine-tuning dataset is very different from the dataset used to train the transfer learning model, freezing the weights may not be a good idea. We'll cover the broader scope of transfer learning in NLP in a future post.  \n",
        "\n"
      ]
    },
    {
      "cell_type": "markdown",
      "metadata": {
        "id": "0c2KQbtXvEVA",
        "colab_type": "text"
      },
      "source": [
        "OK, let's load BERT! There are a few different pre-trained BERT models available. \"bert-base-uncased\" means the version that has only lowercase letters (\"uncased\") and is the smaller version of the two (\"base\" vs \"large\").\n",
        "\n",
        "The documentation for `from_pretrained` can be found [here](https://huggingface.co/transformers/v2.2.0/main_classes/model.html#transformers.PreTrainedModel.from_pretrained), with the additional parameters defined [here](https://huggingface.co/transformers/v2.2.0/main_classes/configuration.html#transformers.PretrainedConfig)."
      ]
    },
    {
      "cell_type": "code",
      "metadata": {
        "id": "7IK_zj_bAD3D",
        "colab_type": "code",
        "colab": {
          "base_uri": "https://localhost:8080/",
          "height": 1000
        },
        "outputId": "65837e81-90e0-40f8-947f-9dec2d6bacab"
      },
      "source": [
        "# importing model from the library\n",
        "model = BertForSequenceClassification.from_pretrained(\n",
        "    \"bert-base-uncased\", # Use the 12-layer BERT model, with an uncased vocab.\n",
        "    num_labels = 7, # The number of output labels--2 for binary classification.\n",
        "                    # You can increase this for multi-class tasks.   \n",
        "    output_attentions = False, # Whether the model returns attentions weights.\n",
        "    output_hidden_states = False, # Whether the model returns all hidden-states.\n",
        ")\n",
        "model.cuda()"
      ],
      "execution_count": null,
      "outputs": [
        {
          "output_type": "execute_result",
          "data": {
            "text/plain": [
              "BertForSequenceClassification(\n",
              "  (bert): BertModel(\n",
              "    (embeddings): BertEmbeddings(\n",
              "      (word_embeddings): Embedding(30522, 768, padding_idx=0)\n",
              "      (position_embeddings): Embedding(512, 768)\n",
              "      (token_type_embeddings): Embedding(2, 768)\n",
              "      (LayerNorm): BertLayerNorm()\n",
              "      (dropout): Dropout(p=0.1, inplace=False)\n",
              "    )\n",
              "    (encoder): BertEncoder(\n",
              "      (layer): ModuleList(\n",
              "        (0): BertLayer(\n",
              "          (attention): BertAttention(\n",
              "            (self): BertSelfAttention(\n",
              "              (query): Linear(in_features=768, out_features=768, bias=True)\n",
              "              (key): Linear(in_features=768, out_features=768, bias=True)\n",
              "              (value): Linear(in_features=768, out_features=768, bias=True)\n",
              "              (dropout): Dropout(p=0.1, inplace=False)\n",
              "            )\n",
              "            (output): BertSelfOutput(\n",
              "              (dense): Linear(in_features=768, out_features=768, bias=True)\n",
              "              (LayerNorm): BertLayerNorm()\n",
              "              (dropout): Dropout(p=0.1, inplace=False)\n",
              "            )\n",
              "          )\n",
              "          (intermediate): BertIntermediate(\n",
              "            (dense): Linear(in_features=768, out_features=3072, bias=True)\n",
              "          )\n",
              "          (output): BertOutput(\n",
              "            (dense): Linear(in_features=3072, out_features=768, bias=True)\n",
              "            (LayerNorm): BertLayerNorm()\n",
              "            (dropout): Dropout(p=0.1, inplace=False)\n",
              "          )\n",
              "        )\n",
              "        (1): BertLayer(\n",
              "          (attention): BertAttention(\n",
              "            (self): BertSelfAttention(\n",
              "              (query): Linear(in_features=768, out_features=768, bias=True)\n",
              "              (key): Linear(in_features=768, out_features=768, bias=True)\n",
              "              (value): Linear(in_features=768, out_features=768, bias=True)\n",
              "              (dropout): Dropout(p=0.1, inplace=False)\n",
              "            )\n",
              "            (output): BertSelfOutput(\n",
              "              (dense): Linear(in_features=768, out_features=768, bias=True)\n",
              "              (LayerNorm): BertLayerNorm()\n",
              "              (dropout): Dropout(p=0.1, inplace=False)\n",
              "            )\n",
              "          )\n",
              "          (intermediate): BertIntermediate(\n",
              "            (dense): Linear(in_features=768, out_features=3072, bias=True)\n",
              "          )\n",
              "          (output): BertOutput(\n",
              "            (dense): Linear(in_features=3072, out_features=768, bias=True)\n",
              "            (LayerNorm): BertLayerNorm()\n",
              "            (dropout): Dropout(p=0.1, inplace=False)\n",
              "          )\n",
              "        )\n",
              "        (2): BertLayer(\n",
              "          (attention): BertAttention(\n",
              "            (self): BertSelfAttention(\n",
              "              (query): Linear(in_features=768, out_features=768, bias=True)\n",
              "              (key): Linear(in_features=768, out_features=768, bias=True)\n",
              "              (value): Linear(in_features=768, out_features=768, bias=True)\n",
              "              (dropout): Dropout(p=0.1, inplace=False)\n",
              "            )\n",
              "            (output): BertSelfOutput(\n",
              "              (dense): Linear(in_features=768, out_features=768, bias=True)\n",
              "              (LayerNorm): BertLayerNorm()\n",
              "              (dropout): Dropout(p=0.1, inplace=False)\n",
              "            )\n",
              "          )\n",
              "          (intermediate): BertIntermediate(\n",
              "            (dense): Linear(in_features=768, out_features=3072, bias=True)\n",
              "          )\n",
              "          (output): BertOutput(\n",
              "            (dense): Linear(in_features=3072, out_features=768, bias=True)\n",
              "            (LayerNorm): BertLayerNorm()\n",
              "            (dropout): Dropout(p=0.1, inplace=False)\n",
              "          )\n",
              "        )\n",
              "        (3): BertLayer(\n",
              "          (attention): BertAttention(\n",
              "            (self): BertSelfAttention(\n",
              "              (query): Linear(in_features=768, out_features=768, bias=True)\n",
              "              (key): Linear(in_features=768, out_features=768, bias=True)\n",
              "              (value): Linear(in_features=768, out_features=768, bias=True)\n",
              "              (dropout): Dropout(p=0.1, inplace=False)\n",
              "            )\n",
              "            (output): BertSelfOutput(\n",
              "              (dense): Linear(in_features=768, out_features=768, bias=True)\n",
              "              (LayerNorm): BertLayerNorm()\n",
              "              (dropout): Dropout(p=0.1, inplace=False)\n",
              "            )\n",
              "          )\n",
              "          (intermediate): BertIntermediate(\n",
              "            (dense): Linear(in_features=768, out_features=3072, bias=True)\n",
              "          )\n",
              "          (output): BertOutput(\n",
              "            (dense): Linear(in_features=3072, out_features=768, bias=True)\n",
              "            (LayerNorm): BertLayerNorm()\n",
              "            (dropout): Dropout(p=0.1, inplace=False)\n",
              "          )\n",
              "        )\n",
              "        (4): BertLayer(\n",
              "          (attention): BertAttention(\n",
              "            (self): BertSelfAttention(\n",
              "              (query): Linear(in_features=768, out_features=768, bias=True)\n",
              "              (key): Linear(in_features=768, out_features=768, bias=True)\n",
              "              (value): Linear(in_features=768, out_features=768, bias=True)\n",
              "              (dropout): Dropout(p=0.1, inplace=False)\n",
              "            )\n",
              "            (output): BertSelfOutput(\n",
              "              (dense): Linear(in_features=768, out_features=768, bias=True)\n",
              "              (LayerNorm): BertLayerNorm()\n",
              "              (dropout): Dropout(p=0.1, inplace=False)\n",
              "            )\n",
              "          )\n",
              "          (intermediate): BertIntermediate(\n",
              "            (dense): Linear(in_features=768, out_features=3072, bias=True)\n",
              "          )\n",
              "          (output): BertOutput(\n",
              "            (dense): Linear(in_features=3072, out_features=768, bias=True)\n",
              "            (LayerNorm): BertLayerNorm()\n",
              "            (dropout): Dropout(p=0.1, inplace=False)\n",
              "          )\n",
              "        )\n",
              "        (5): BertLayer(\n",
              "          (attention): BertAttention(\n",
              "            (self): BertSelfAttention(\n",
              "              (query): Linear(in_features=768, out_features=768, bias=True)\n",
              "              (key): Linear(in_features=768, out_features=768, bias=True)\n",
              "              (value): Linear(in_features=768, out_features=768, bias=True)\n",
              "              (dropout): Dropout(p=0.1, inplace=False)\n",
              "            )\n",
              "            (output): BertSelfOutput(\n",
              "              (dense): Linear(in_features=768, out_features=768, bias=True)\n",
              "              (LayerNorm): BertLayerNorm()\n",
              "              (dropout): Dropout(p=0.1, inplace=False)\n",
              "            )\n",
              "          )\n",
              "          (intermediate): BertIntermediate(\n",
              "            (dense): Linear(in_features=768, out_features=3072, bias=True)\n",
              "          )\n",
              "          (output): BertOutput(\n",
              "            (dense): Linear(in_features=3072, out_features=768, bias=True)\n",
              "            (LayerNorm): BertLayerNorm()\n",
              "            (dropout): Dropout(p=0.1, inplace=False)\n",
              "          )\n",
              "        )\n",
              "        (6): BertLayer(\n",
              "          (attention): BertAttention(\n",
              "            (self): BertSelfAttention(\n",
              "              (query): Linear(in_features=768, out_features=768, bias=True)\n",
              "              (key): Linear(in_features=768, out_features=768, bias=True)\n",
              "              (value): Linear(in_features=768, out_features=768, bias=True)\n",
              "              (dropout): Dropout(p=0.1, inplace=False)\n",
              "            )\n",
              "            (output): BertSelfOutput(\n",
              "              (dense): Linear(in_features=768, out_features=768, bias=True)\n",
              "              (LayerNorm): BertLayerNorm()\n",
              "              (dropout): Dropout(p=0.1, inplace=False)\n",
              "            )\n",
              "          )\n",
              "          (intermediate): BertIntermediate(\n",
              "            (dense): Linear(in_features=768, out_features=3072, bias=True)\n",
              "          )\n",
              "          (output): BertOutput(\n",
              "            (dense): Linear(in_features=3072, out_features=768, bias=True)\n",
              "            (LayerNorm): BertLayerNorm()\n",
              "            (dropout): Dropout(p=0.1, inplace=False)\n",
              "          )\n",
              "        )\n",
              "        (7): BertLayer(\n",
              "          (attention): BertAttention(\n",
              "            (self): BertSelfAttention(\n",
              "              (query): Linear(in_features=768, out_features=768, bias=True)\n",
              "              (key): Linear(in_features=768, out_features=768, bias=True)\n",
              "              (value): Linear(in_features=768, out_features=768, bias=True)\n",
              "              (dropout): Dropout(p=0.1, inplace=False)\n",
              "            )\n",
              "            (output): BertSelfOutput(\n",
              "              (dense): Linear(in_features=768, out_features=768, bias=True)\n",
              "              (LayerNorm): BertLayerNorm()\n",
              "              (dropout): Dropout(p=0.1, inplace=False)\n",
              "            )\n",
              "          )\n",
              "          (intermediate): BertIntermediate(\n",
              "            (dense): Linear(in_features=768, out_features=3072, bias=True)\n",
              "          )\n",
              "          (output): BertOutput(\n",
              "            (dense): Linear(in_features=3072, out_features=768, bias=True)\n",
              "            (LayerNorm): BertLayerNorm()\n",
              "            (dropout): Dropout(p=0.1, inplace=False)\n",
              "          )\n",
              "        )\n",
              "        (8): BertLayer(\n",
              "          (attention): BertAttention(\n",
              "            (self): BertSelfAttention(\n",
              "              (query): Linear(in_features=768, out_features=768, bias=True)\n",
              "              (key): Linear(in_features=768, out_features=768, bias=True)\n",
              "              (value): Linear(in_features=768, out_features=768, bias=True)\n",
              "              (dropout): Dropout(p=0.1, inplace=False)\n",
              "            )\n",
              "            (output): BertSelfOutput(\n",
              "              (dense): Linear(in_features=768, out_features=768, bias=True)\n",
              "              (LayerNorm): BertLayerNorm()\n",
              "              (dropout): Dropout(p=0.1, inplace=False)\n",
              "            )\n",
              "          )\n",
              "          (intermediate): BertIntermediate(\n",
              "            (dense): Linear(in_features=768, out_features=3072, bias=True)\n",
              "          )\n",
              "          (output): BertOutput(\n",
              "            (dense): Linear(in_features=3072, out_features=768, bias=True)\n",
              "            (LayerNorm): BertLayerNorm()\n",
              "            (dropout): Dropout(p=0.1, inplace=False)\n",
              "          )\n",
              "        )\n",
              "        (9): BertLayer(\n",
              "          (attention): BertAttention(\n",
              "            (self): BertSelfAttention(\n",
              "              (query): Linear(in_features=768, out_features=768, bias=True)\n",
              "              (key): Linear(in_features=768, out_features=768, bias=True)\n",
              "              (value): Linear(in_features=768, out_features=768, bias=True)\n",
              "              (dropout): Dropout(p=0.1, inplace=False)\n",
              "            )\n",
              "            (output): BertSelfOutput(\n",
              "              (dense): Linear(in_features=768, out_features=768, bias=True)\n",
              "              (LayerNorm): BertLayerNorm()\n",
              "              (dropout): Dropout(p=0.1, inplace=False)\n",
              "            )\n",
              "          )\n",
              "          (intermediate): BertIntermediate(\n",
              "            (dense): Linear(in_features=768, out_features=3072, bias=True)\n",
              "          )\n",
              "          (output): BertOutput(\n",
              "            (dense): Linear(in_features=3072, out_features=768, bias=True)\n",
              "            (LayerNorm): BertLayerNorm()\n",
              "            (dropout): Dropout(p=0.1, inplace=False)\n",
              "          )\n",
              "        )\n",
              "        (10): BertLayer(\n",
              "          (attention): BertAttention(\n",
              "            (self): BertSelfAttention(\n",
              "              (query): Linear(in_features=768, out_features=768, bias=True)\n",
              "              (key): Linear(in_features=768, out_features=768, bias=True)\n",
              "              (value): Linear(in_features=768, out_features=768, bias=True)\n",
              "              (dropout): Dropout(p=0.1, inplace=False)\n",
              "            )\n",
              "            (output): BertSelfOutput(\n",
              "              (dense): Linear(in_features=768, out_features=768, bias=True)\n",
              "              (LayerNorm): BertLayerNorm()\n",
              "              (dropout): Dropout(p=0.1, inplace=False)\n",
              "            )\n",
              "          )\n",
              "          (intermediate): BertIntermediate(\n",
              "            (dense): Linear(in_features=768, out_features=3072, bias=True)\n",
              "          )\n",
              "          (output): BertOutput(\n",
              "            (dense): Linear(in_features=3072, out_features=768, bias=True)\n",
              "            (LayerNorm): BertLayerNorm()\n",
              "            (dropout): Dropout(p=0.1, inplace=False)\n",
              "          )\n",
              "        )\n",
              "        (11): BertLayer(\n",
              "          (attention): BertAttention(\n",
              "            (self): BertSelfAttention(\n",
              "              (query): Linear(in_features=768, out_features=768, bias=True)\n",
              "              (key): Linear(in_features=768, out_features=768, bias=True)\n",
              "              (value): Linear(in_features=768, out_features=768, bias=True)\n",
              "              (dropout): Dropout(p=0.1, inplace=False)\n",
              "            )\n",
              "            (output): BertSelfOutput(\n",
              "              (dense): Linear(in_features=768, out_features=768, bias=True)\n",
              "              (LayerNorm): BertLayerNorm()\n",
              "              (dropout): Dropout(p=0.1, inplace=False)\n",
              "            )\n",
              "          )\n",
              "          (intermediate): BertIntermediate(\n",
              "            (dense): Linear(in_features=768, out_features=3072, bias=True)\n",
              "          )\n",
              "          (output): BertOutput(\n",
              "            (dense): Linear(in_features=3072, out_features=768, bias=True)\n",
              "            (LayerNorm): BertLayerNorm()\n",
              "            (dropout): Dropout(p=0.1, inplace=False)\n",
              "          )\n",
              "        )\n",
              "      )\n",
              "    )\n",
              "    (pooler): BertPooler(\n",
              "      (dense): Linear(in_features=768, out_features=768, bias=True)\n",
              "      (activation): Tanh()\n",
              "    )\n",
              "  )\n",
              "  (dropout): Dropout(p=0.1, inplace=False)\n",
              "  (classifier): Linear(in_features=768, out_features=7, bias=True)\n",
              ")"
            ]
          },
          "metadata": {
            "tags": []
          },
          "execution_count": 40
        }
      ]
    },
    {
      "cell_type": "markdown",
      "metadata": {
        "id": "Gsm_ohG1Jlgs",
        "colab_type": "text"
      },
      "source": [
        "Now that we have our model loaded we need to grab the training hyperparameters from within the stored model.\n",
        "\n",
        "For the purposes of fine-tuning, the authors recommend the following hyperparameter ranges:\n",
        "- Batch size: 16, 32\n",
        "- Learning rate (Adam): 5e-5, 3e-5, 2e-5\n",
        "- Number of epochs: 2, 3, 4"
      ]
    },
    {
      "cell_type": "code",
      "metadata": {
        "id": "6ioVITWD06aa",
        "colab_type": "code",
        "colab": {
          "base_uri": "https://localhost:8080/",
          "height": 605
        },
        "outputId": "2caf58e4-c253-49bb-8660-968e81d618f4"
      },
      "source": [
        "# Get all of the model's parameters as a list of tuples.\n",
        "params = list(model.named_parameters())\n",
        "\n",
        "print('The BERT model has {:} different named parameters.\\n'.format(len(params)))\n",
        "\n",
        "print('==== Embedding Layer ====\\n')\n",
        "\n",
        "for p in params[0:5]:\n",
        "    print(\"{:<55} {:>12}\".format(p[0], str(tuple(p[1].size()))))\n",
        "\n",
        "print('\\n==== First Transformer ====\\n')\n",
        "\n",
        "for p in params[5:21]:\n",
        "    print(\"{:<55} {:>12}\".format(p[0], str(tuple(p[1].size()))))\n",
        "\n",
        "print('\\n==== Output Layer ====\\n')\n",
        "\n",
        "for p in params[-4:]:\n",
        "    print(\"{:<55} {:>12}\".format(p[0], str(tuple(p[1].size()))))"
      ],
      "execution_count": null,
      "outputs": [
        {
          "output_type": "stream",
          "text": [
            "The BERT model has 201 different named parameters.\n",
            "\n",
            "==== Embedding Layer ====\n",
            "\n",
            "bert.embeddings.word_embeddings.weight                  (30522, 768)\n",
            "bert.embeddings.position_embeddings.weight                (512, 768)\n",
            "bert.embeddings.token_type_embeddings.weight                (2, 768)\n",
            "bert.embeddings.LayerNorm.weight                              (768,)\n",
            "bert.embeddings.LayerNorm.bias                                (768,)\n",
            "\n",
            "==== First Transformer ====\n",
            "\n",
            "bert.encoder.layer.0.attention.self.query.weight          (768, 768)\n",
            "bert.encoder.layer.0.attention.self.query.bias                (768,)\n",
            "bert.encoder.layer.0.attention.self.key.weight            (768, 768)\n",
            "bert.encoder.layer.0.attention.self.key.bias                  (768,)\n",
            "bert.encoder.layer.0.attention.self.value.weight          (768, 768)\n",
            "bert.encoder.layer.0.attention.self.value.bias                (768,)\n",
            "bert.encoder.layer.0.attention.output.dense.weight        (768, 768)\n",
            "bert.encoder.layer.0.attention.output.dense.bias              (768,)\n",
            "bert.encoder.layer.0.attention.output.LayerNorm.weight        (768,)\n",
            "bert.encoder.layer.0.attention.output.LayerNorm.bias          (768,)\n",
            "bert.encoder.layer.0.intermediate.dense.weight           (3072, 768)\n",
            "bert.encoder.layer.0.intermediate.dense.bias                 (3072,)\n",
            "bert.encoder.layer.0.output.dense.weight                 (768, 3072)\n",
            "bert.encoder.layer.0.output.dense.bias                        (768,)\n",
            "bert.encoder.layer.0.output.LayerNorm.weight                  (768,)\n",
            "bert.encoder.layer.0.output.LayerNorm.bias                    (768,)\n",
            "\n",
            "==== Output Layer ====\n",
            "\n",
            "bert.pooler.dense.weight                                  (768, 768)\n",
            "bert.pooler.dense.bias                                        (768,)\n",
            "classifier.weight                                           (7, 768)\n",
            "classifier.bias                                                 (7,)\n"
          ],
          "name": "stdout"
        }
      ]
    },
    {
      "cell_type": "markdown",
      "metadata": {
        "id": "sD1A1F4ZvoWQ",
        "colab_type": "text"
      },
      "source": [
        "## Optimizer & Learning Rate Scheduler"
      ]
    },
    {
      "cell_type": "markdown",
      "metadata": {
        "id": "rEBp0yW8vktu",
        "colab_type": "text"
      },
      "source": [
        "Now that we have our model loaded we need to grab the training hyperparameters from within the stored model.\n",
        "\n",
        "For the purposes of fine-tuning, the authors recommend choosing from the following values:\n",
        "- Batch size: 16, 32  (We chose 32 when creating our DataLoaders).\n",
        "- Learning rate (Adam): 5e-5, 3e-5, 2e-5  (We'll use 2e-5).\n",
        "- Number of epochs: 2, 3, 4  (We'll use 4).\n",
        "\n",
        "The epsilon parameter `eps = 1e-8` is \"a very small number to prevent any division by zero in the implementation\" (from [here](https://machinelearningmastery.com/adam-optimization-algorithm-for-deep-learning/)).\n",
        "\n",
        "You can find the creation of the AdamW optimizer in `run_glue.py` [here](https://github.com/huggingface/transformers/blob/5bfcd0485ece086ebcbed2d008813037968a9e58/examples/run_glue.py#L109)."
      ]
    },
    {
      "cell_type": "markdown",
      "metadata": {
        "id": "jTTLLGufnp9k",
        "colab_type": "text"
      },
      "source": [
        "### Optimizer"
      ]
    },
    {
      "cell_type": "code",
      "metadata": {
        "id": "tLYvNudY5ZjH",
        "colab_type": "code",
        "colab": {
          "base_uri": "https://localhost:8080/",
          "height": 34
        },
        "outputId": "87233bc9-3d06-4f87-e6f7-ab237a0301b8"
      },
      "source": [
        "param_optimizer = list(model.named_parameters())\n",
        "no_decay = ['bias', 'gamma', 'beta']\n",
        "optimizer_grouped_parameters = [\n",
        "    {'params': [p for n, p in param_optimizer if not any(nd in n for nd in no_decay)],\n",
        "     'weight_decay_rate': 0.01},\n",
        "    {'params': [p for n, p in param_optimizer if any(nd in n for nd in no_decay)],\n",
        "     'weight_decay_rate': 0.0}\n",
        "]\n",
        "\n",
        "# Note: AdamW is a class from the huggingface library (as opposed to pytorch) \n",
        "# I believe the 'W' stands for 'Weight Decay fix\"\n",
        "optimizer = AdamW(optimizer_grouped_parameters,\n",
        "                  lr = 2e-5, # args.learning_rate - default is 5e-5, our notebook had 2e-5\n",
        "                  eps = 1e-8 # args.adam_epsilon  - default is 1e-8.\n",
        "                )\n"
      ],
      "execution_count": null,
      "outputs": [
        {
          "output_type": "stream",
          "text": [
            "t_total value of -1 results in schedule not being applied\n"
          ],
          "name": "stderr"
        }
      ]
    },
    {
      "cell_type": "markdown",
      "metadata": {
        "id": "5LIqVS_HLHqZ",
        "colab_type": "text"
      },
      "source": [
        "Below is our training loop. There's a lot going on, but fundamentally for each pass in our loop we have a trianing phase and a validation phase. At each pass we need to:\n",
        "\n",
        "Training loop:\n",
        "- Tell the model to compute gradients by setting the model in train mode\n",
        "- Unpack our data inputs and labels\n",
        "- Load data onto the GPU for acceleration\n",
        "- Clear out the gradients calculated in the previous pass. In pytorch the gradients accumulate by default (useful for things like RNNs) unless you explicitly clear them out\n",
        "- Forward pass (feed input data through the network)\n",
        "- Backward pass (backpropagation)\n",
        "- Tell the network to update parameters with optimizer.step()\n",
        "- Track variables for monitoring progress\n",
        "\n",
        "Evalution loop:\n",
        "- Tell the model not to compute gradients by setting th emodel in evaluation mode\n",
        "- Unpack our data inputs and labels\n",
        "- Load data onto the GPU for acceleration\n",
        "- Forward pass (feed input data through the network)\n",
        "- Compute loss on our validation data and track variables for monitoring progress\n",
        "\n",
        "So please read carefully through the comments to get an understanding of what's happening. If you're unfamiliar with pytorch a quick look at some of their [beginner tutorials](https://pytorch.org/tutorials/beginner/blitz/cifar10_tutorial.html#sphx-glr-beginner-blitz-cifar10-tutorial-py) will help show you that training loops really involve only a few simple steps; the rest is usually just decoration and logging.  "
      ]
    },
    {
      "cell_type": "markdown",
      "metadata": {
        "id": "NNaKMon-n6FN",
        "colab_type": "text"
      },
      "source": [
        "Helper function for formatting elapsed times."
      ]
    },
    {
      "cell_type": "code",
      "metadata": {
        "id": "uQ8iidkobo2G",
        "colab_type": "code",
        "colab": {}
      },
      "source": [
        "import time\n",
        "import datetime\n",
        "\n",
        "def format_time(elapsed):\n",
        "    '''\n",
        "    Takes a time in seconds and returns a string hh:mm:ss\n",
        "    '''\n",
        "    # Round to the nearest second.\n",
        "    elapsed_rounded = int(round((elapsed)))\n",
        "    \n",
        "    # Format as hh:mm:ss\n",
        "    return str(datetime.timedelta(seconds=elapsed_rounded))"
      ],
      "execution_count": null,
      "outputs": []
    },
    {
      "cell_type": "markdown",
      "metadata": {
        "id": "OSqi7I86nf9Z",
        "colab_type": "text"
      },
      "source": [
        "### Accuracy "
      ]
    },
    {
      "cell_type": "code",
      "metadata": {
        "id": "5enz51lcKUI7",
        "colab_type": "code",
        "colab": {}
      },
      "source": [
        "def acc(preds, labels):\n",
        "  pred_flat = np.argmax(preds, axis=1) # np.argmax - Returns the indices of the maximum values along an axis.\n",
        "  labels_flat = labels.flatten() # Flatten - Return a copy of the array collapsed into one dimension.\n",
        "  return np.sum(pred_flat == labels_flat) / len(labels_flat)"
      ],
      "execution_count": null,
      "outputs": []
    },
    {
      "cell_type": "markdown",
      "metadata": {
        "id": "iotwBOJvn8Wg",
        "colab_type": "text"
      },
      "source": [
        "### Scheduler"
      ]
    },
    {
      "cell_type": "code",
      "metadata": {
        "id": "8usJi1KbARGD",
        "colab_type": "code",
        "colab": {}
      },
      "source": [
        "from transformers import get_linear_schedule_with_warmup\n",
        "\n",
        "# Number of training epochs (authors recommend between 2 and 4)\n",
        "epochs = 4\n",
        "\n",
        "# Total number of training steps is number of batches * number of epochs.\n",
        "total_steps = len(train_dataloader) * epochs\n",
        "\n",
        "# Create the learning rate scheduler.\n",
        "scheduler = get_linear_schedule_with_warmup(optimizer, \n",
        "                                            num_warmup_steps = 0, # Default value in run_glue.py\n",
        "                                            num_training_steps = total_steps)"
      ],
      "execution_count": null,
      "outputs": []
    },
    {
      "cell_type": "markdown",
      "metadata": {
        "id": "jfDmoc5VIRMv",
        "colab_type": "text"
      },
      "source": [
        "## Train Model"
      ]
    },
    {
      "cell_type": "code",
      "metadata": {
        "id": "_hIe17vbRXVa",
        "colab_type": "code",
        "colab": {}
      },
      "source": [
        "import random\n",
        "seed_val = 42\n",
        "\n",
        "# # Set the seed value all over the place to make this reproducible.\n",
        "\n",
        "random.seed(seed_val)\n",
        "np.random.seed(seed_val)\n",
        "torch.manual_seed(seed_val)\n",
        "torch.cuda.manual_seed_all(seed_val)\n",
        "\n",
        "# store the average loss value after each epoch so that we can later use it for plotting \n",
        "loss_values = []\n",
        "epoches = 4\n",
        "\n",
        "\n",
        "for epoch_i in range(0, epoches):\n",
        "\n",
        "    # ========================================\n",
        "    #               Training\n",
        "    # ========================================\n",
        "    \n",
        "    # Perform one full pass over the training set.\n",
        "\n",
        "    print(\"\")\n",
        "    print('======== Epoch {:} / {:} ========'.format(epoch_i + 1, epoches))\n",
        "    print('Training...')\n",
        "\n",
        "    t0 = time.time()\n",
        "    # Reset the total loss for this epoch.\n",
        "    total_loss = 0\n",
        "\n",
        "    # Put the model into training mode. Don't be mislead--the call to \n",
        "    # `train` just changes the *mode*, it doesn't *perform* the training.\n",
        "    # `dropout` and `batchnorm` layers behave differently during training\n",
        "    model.train()\n",
        "\n",
        "    # for each batch of training dataset\n",
        "    for step, batch in enumerate(train_dataloader):\n",
        "      if step%40 == 0 and not step == 0:\n",
        "        elapsed = format_time(time.time() - t0)\n",
        "        print(\"   Batch      {:}   of   {:}   Elapsed: {:}.\".format(step, len(train_dataloader), elapsed))\n",
        "\n",
        "      # Unpack this training batch from our dataloader.\n",
        "      # batch[0] = input_ids, batch[1] = attention_mask, batch[2] = labels\n",
        "      batch[0] = torch.tensor(batch[0]).to(torch.int64)\n",
        "      batch[1] = torch.tensor(batch[1]).to(torch.int64)\n",
        "      # batch[2] = torch.tensor(batch[2]).to(torch.int64)\n",
        "      b_input_ids = batch[0].to(device)\n",
        "      b_attention_masks = batch[1].to(device)\n",
        "      b_labels = batch[2].to(device)\n",
        "      \n",
        "      # Always clear any previously calculated gradients before performing a\n",
        "      # backward pass. PyTorch doesn't do this automatically because \n",
        "      # accumulating the gradients is \"convenient while training RNNs\".\n",
        "      model.zero_grad()\n",
        "\n",
        "      # Perform a forward pass (evaluate the model on this training batch).\n",
        "      # This will return the loss (rather than the model output) because we\n",
        "      # have provided the `labels`.\n",
        "      outputs = model(b_input_ids,\n",
        "                      attention_mask = b_attention_masks,\n",
        "                      labels=b_labels)\n",
        "      if step == 0:\n",
        "        print(outputs, outputs.size())\n",
        "      \n",
        "      loss = outputs\n",
        "\n",
        "      total_loss += loss.item()\n",
        "\n",
        "      # Perform a backward pass to calculate the gradients.\n",
        "      loss.backward()\n",
        "\n",
        "      # Clip the norm of the gradients to 1.0. \n",
        "      # This is to help prevent the \"exploding gradients\" problem.\n",
        "      torch.nn.utils.clip_grad_norm_(model.parameters(), 1.0)\n",
        "\n",
        "      # Update parameters and take a step using the computed gradient.\n",
        "      optimizer.step()\n",
        "\n",
        "      # Update the learning rate.\n",
        "      scheduler.step()\n",
        "\n",
        "    avg_train_loss = total_loss / len(train_dataloader)\n",
        "    loss_values.append(avg_train_loss)\n",
        "    print(\"\")\n",
        "    print(\"  Average training loss: {0:.2f}\".format(avg_train_loss))\n",
        "    print(\"  Training epcoh took: {:}\".format(format_time(time.time() - t0)))\n",
        "    # ========================================\n",
        "    #               Validation\n",
        "    # ========================================\n",
        "    # After the completion of each training epoch, measure our performance on\n",
        "    # our validation set.\n",
        "\n",
        "    print(\"\")\n",
        "    print(\"Running Validation...\")\n",
        "\n",
        "    t0 = time.time()\n",
        "    # Put the model in evaluation mode--the dropout layers behave differently\n",
        "    # during evaluation.\n",
        "\n",
        "    model.eval()\n",
        "\n",
        "    eval_loss, eval_acc = 0, 0\n",
        "    nb_eval_steps, nb_eval_example = 0, 0\n",
        "\n",
        "    for batch in validation_dataloader:\n",
        "      # add batch\n",
        "      batch[0] = torch.tensor(batch[0]).to(torch.int64)\n",
        "      batch[1] = torch.tensor(batch[1]).to(torch.int64)\n",
        "            \n",
        "      b_input_ids = batch[0].to(device)\n",
        "      b_attention_masks = batch[1].to(device)\n",
        "      b_labels = batch[2].to(device)\n",
        "\n",
        "      # Telling the model not to compute or store gradients, saving memory and\n",
        "      # speeding up validation      \n",
        "      with torch.no_grad():\n",
        "        logits = model(b_input_ids, attention_mask = b_attention_masks)\n",
        "\n",
        "\n",
        "        \n",
        "      # Get the \"logits\" output by the model. The \"logits\" are the output\n",
        "      # values prior to applying an activation function like the softmax.\n",
        "      # logits = outputs\n",
        "\n",
        "      # Move logits and labels to CPU\n",
        "      logits = logits.detach().cpu().numpy()\n",
        "      labels = b_labels.to('cpu').numpy()\n",
        "\n",
        "      # Calculate the accuracy for this batch of test sentences.\n",
        "      eval_acc += acc(logits, labels)\n",
        "\n",
        "      nb_eval_steps += 1\n",
        "\n",
        "    print(\"  Val_Accuracy: {0:.2f}\".format(eval_acc/nb_eval_steps)) \n",
        "    print(\"  Validation took: {:}\".format(format_time(time.time() - t0)))\n",
        "\n",
        "print(\"\")\n",
        "print(\"Training complete!\")\n",
        "\n"
      ],
      "execution_count": null,
      "outputs": []
    },
    {
      "cell_type": "code",
      "metadata": {
        "id": "xaeihOfp8oHW",
        "colab_type": "code",
        "colab": {}
      },
      "source": [
        "torch.cuda.empty_cache()"
      ],
      "execution_count": null,
      "outputs": []
    },
    {
      "cell_type": "code",
      "metadata": {
        "id": "Tm_L9Qv6fk59",
        "colab_type": "code",
        "colab": {}
      },
      "source": [
        ""
      ],
      "execution_count": null,
      "outputs": []
    }
  ]
}